{
 "cells": [
  {
   "cell_type": "markdown",
   "id": "8da5c812-c922-4154-80f2-ecec1f8a8b2d",
   "metadata": {},
   "source": [
    "# Data Science Tools and Ecosystem"
   ]
  },
  {
   "cell_type": "markdown",
   "id": "95a329ad-fb2f-4db8-b3f2-d1d1c0ae3b74",
   "metadata": {},
   "source": [
    "## Author\n",
    "Nihal Bhat"
   ]
  },
  {
   "cell_type": "markdown",
   "id": "495a7702-8ddd-418e-8871-5121b8789796",
   "metadata": {},
   "source": [
    "In this notebook, Data Science Tools and Ecosystem are summarized."
   ]
  },
  {
   "cell_type": "markdown",
   "id": "54d33155-2515-4784-9109-84aaf654334c",
   "metadata": {},
   "source": [
    "**Objectives:**\n",
    "* Practice writing text in markdown\n",
    "* Listing popular languages and libraries data scientists use\n",
    "* Practicing evaluating arithmetic expressions"
   ]
  },
  {
   "cell_type": "markdown",
   "id": "53db1c9e-a0fc-44e2-b954-e8cafce829ba",
   "metadata": {},
   "source": [
    "Some of the popular languages that Data Scientists use are:\n",
    "1. Python\n",
    "2. R\n",
    "3. SQL"
   ]
  },
  {
   "cell_type": "markdown",
   "id": "c5999e17-7b58-4aa6-a00d-07ae7e2674ef",
   "metadata": {},
   "source": [
    "Some of the commonly used libraries used by Data Scientists include:\n",
    "1. numpy\n",
    "2. pandas\n",
    "3. matplotlib"
   ]
  },
  {
   "cell_type": "markdown",
   "id": "fb8b79bf-dc39-429f-89bf-1f73bdb3d568",
   "metadata": {},
   "source": [
    "| Data Science Tools |\n",
    "| ---- |\n",
    "| Visual Studio Code |\n",
    "| Jupyter Notebooks |\n",
    "| Git and Github |"
   ]
  },
  {
   "cell_type": "markdown",
   "id": "42919188-ef69-49de-af2d-91887a211b08",
   "metadata": {},
   "source": [
    "### Below are a few examples of evaluating arithmetic expressions in Python"
   ]
  },
  {
   "cell_type": "code",
   "execution_count": 3,
   "id": "35de899a-b6e8-4818-b1d7-c505d7666b2f",
   "metadata": {},
   "outputs": [
    {
     "data": {
      "text/plain": [
       "17"
      ]
     },
     "execution_count": 3,
     "metadata": {},
     "output_type": "execute_result"
    }
   ],
   "source": [
    "# This a simple arithmetic expression to multiply then add integers\n",
    "(3*4)+5"
   ]
  },
  {
   "cell_type": "code",
   "execution_count": 4,
   "id": "0aadf0dd-aa0c-4c7d-aff3-c09eceb09d62",
   "metadata": {},
   "outputs": [
    {
     "data": {
      "text/plain": [
       "3.3333333333333335"
      ]
     },
     "execution_count": 4,
     "metadata": {},
     "output_type": "execute_result"
    }
   ],
   "source": [
    "# This will convert 200 minutes to hours by diving by 60\n",
    "200/60"
   ]
  }
 ],
 "metadata": {
  "kernelspec": {
   "display_name": "Python 3 (ipykernel)",
   "language": "python",
   "name": "python3"
  },
  "language_info": {
   "codemirror_mode": {
    "name": "ipython",
    "version": 3
   },
   "file_extension": ".py",
   "mimetype": "text/x-python",
   "name": "python",
   "nbconvert_exporter": "python",
   "pygments_lexer": "ipython3",
   "version": "3.11.9"
  }
 },
 "nbformat": 4,
 "nbformat_minor": 5
}
